{
 "cells": [
  {
   "cell_type": "markdown",
   "id": "de4dc171",
   "metadata": {},
   "source": [
    "### IMPORTS"
   ]
  },
  {
   "cell_type": "code",
   "execution_count": 1,
   "id": "fb682c84",
   "metadata": {
    "collapsed": true,
    "jupyter": {
     "outputs_hidden": true
    },
    "tags": []
   },
   "outputs": [
    {
     "name": "stdout",
     "output_type": "stream",
     "text": [
      "Looking in indexes: https://pypi.org/simple, https://pip.repos.neuron.amazonaws.com\n",
      "Requirement already satisfied: cdlib in /home/ec2-user/.local/lib/python3.8/site-packages (0.2.6)\n",
      "Requirement already satisfied: pyclustering in /home/ec2-user/.local/lib/python3.8/site-packages (from cdlib) (0.10.1.2)\n",
      "Requirement already satisfied: matplotlib in /home/ec2-user/anaconda3/envs/python3/lib/python3.8/site-packages (from cdlib) (3.5.0)\n",
      "Requirement already satisfied: tqdm in /home/ec2-user/anaconda3/envs/python3/lib/python3.8/site-packages (from cdlib) (4.62.3)\n",
      "Requirement already satisfied: pandas in /home/ec2-user/anaconda3/envs/python3/lib/python3.8/site-packages (from cdlib) (1.3.4)\n",
      "Requirement already satisfied: bimlpa in /home/ec2-user/.local/lib/python3.8/site-packages (from cdlib) (0.1.2)\n",
      "Requirement already satisfied: angel-cd in /home/ec2-user/.local/lib/python3.8/site-packages (from cdlib) (1.0.3)\n",
      "Requirement already satisfied: demon in /home/ec2-user/.local/lib/python3.8/site-packages (from cdlib) (2.0.6)\n",
      "Requirement already satisfied: future in /home/ec2-user/anaconda3/envs/python3/lib/python3.8/site-packages (from cdlib) (0.18.2)\n",
      "Requirement already satisfied: chinese-whispers in /home/ec2-user/.local/lib/python3.8/site-packages (from cdlib) (0.8.0)\n",
      "Requirement already satisfied: python-igraph in /home/ec2-user/.local/lib/python3.8/site-packages (from cdlib) (0.10.2)\n",
      "Requirement already satisfied: scipy in /home/ec2-user/anaconda3/envs/python3/lib/python3.8/site-packages (from cdlib) (1.5.3)\n",
      "Requirement already satisfied: thresholdclustering in /home/ec2-user/.local/lib/python3.8/site-packages (from cdlib) (1.1)\n",
      "Requirement already satisfied: cython in /home/ec2-user/anaconda3/envs/python3/lib/python3.8/site-packages (from cdlib) (0.29.24)\n",
      "Requirement already satisfied: pooch in /home/ec2-user/anaconda3/envs/python3/lib/python3.8/site-packages (from cdlib) (1.5.2)\n",
      "Requirement already satisfied: nf1 in /home/ec2-user/.local/lib/python3.8/site-packages (from cdlib) (0.0.4)\n",
      "Requirement already satisfied: markov-clustering in /home/ec2-user/.local/lib/python3.8/site-packages (from cdlib) (0.0.6.dev0)\n",
      "Requirement already satisfied: dynetx in /home/ec2-user/.local/lib/python3.8/site-packages (from cdlib) (0.3.1)\n",
      "Requirement already satisfied: scikit-learn in /home/ec2-user/anaconda3/envs/python3/lib/python3.8/site-packages (from cdlib) (1.0.1)\n",
      "Requirement already satisfied: python-louvain>=0.16 in /home/ec2-user/.local/lib/python3.8/site-packages (from cdlib) (0.16)\n",
      "Requirement already satisfied: pulp in /home/ec2-user/.local/lib/python3.8/site-packages (from cdlib) (2.6.0)\n",
      "Requirement already satisfied: python-Levenshtein in /home/ec2-user/.local/lib/python3.8/site-packages (from cdlib) (0.20.8)\n",
      "Requirement already satisfied: seaborn in /home/ec2-user/anaconda3/envs/python3/lib/python3.8/site-packages (from cdlib) (0.11.2)\n",
      "Requirement already satisfied: eva-lcd in /home/ec2-user/.local/lib/python3.8/site-packages (from cdlib) (0.1.1)\n",
      "Requirement already satisfied: networkx>=2.4 in /home/ec2-user/anaconda3/envs/python3/lib/python3.8/site-packages (from cdlib) (2.6.3)\n",
      "Requirement already satisfied: numpy in /home/ec2-user/anaconda3/envs/python3/lib/python3.8/site-packages (from cdlib) (1.20.3)\n",
      "Requirement already satisfied: decorator in /home/ec2-user/anaconda3/envs/python3/lib/python3.8/site-packages (from dynetx->cdlib) (5.1.0)\n",
      "Requirement already satisfied: packaging>=20.0 in /home/ec2-user/anaconda3/envs/python3/lib/python3.8/site-packages (from matplotlib->cdlib) (21.3)\n",
      "Requirement already satisfied: python-dateutil>=2.7 in /home/ec2-user/anaconda3/envs/python3/lib/python3.8/site-packages (from matplotlib->cdlib) (2.8.2)\n",
      "Requirement already satisfied: pyparsing>=2.2.1 in /home/ec2-user/anaconda3/envs/python3/lib/python3.8/site-packages (from matplotlib->cdlib) (3.0.6)\n",
      "Requirement already satisfied: pillow>=6.2.0 in /home/ec2-user/anaconda3/envs/python3/lib/python3.8/site-packages (from matplotlib->cdlib) (9.0.1)\n",
      "Requirement already satisfied: kiwisolver>=1.0.1 in /home/ec2-user/anaconda3/envs/python3/lib/python3.8/site-packages (from matplotlib->cdlib) (1.3.2)\n",
      "Requirement already satisfied: cycler>=0.10 in /home/ec2-user/anaconda3/envs/python3/lib/python3.8/site-packages (from matplotlib->cdlib) (0.11.0)\n",
      "Requirement already satisfied: fonttools>=4.22.0 in /home/ec2-user/anaconda3/envs/python3/lib/python3.8/site-packages (from matplotlib->cdlib) (4.28.2)\n",
      "Requirement already satisfied: pytz>=2017.3 in /home/ec2-user/anaconda3/envs/python3/lib/python3.8/site-packages (from pandas->cdlib) (2021.3)\n",
      "Requirement already satisfied: requests in /home/ec2-user/anaconda3/envs/python3/lib/python3.8/site-packages (from pooch->cdlib) (2.26.0)\n",
      "Requirement already satisfied: appdirs in /home/ec2-user/anaconda3/envs/python3/lib/python3.8/site-packages (from pooch->cdlib) (1.4.4)\n",
      "Requirement already satisfied: igraph==0.10.2 in /home/ec2-user/.local/lib/python3.8/site-packages (from python-igraph->cdlib) (0.10.2)\n",
      "Requirement already satisfied: texttable>=1.6.2 in /home/ec2-user/anaconda3/envs/python3/lib/python3.8/site-packages (from igraph==0.10.2->python-igraph->cdlib) (1.6.4)\n",
      "Requirement already satisfied: Levenshtein==0.20.8 in /home/ec2-user/.local/lib/python3.8/site-packages (from python-Levenshtein->cdlib) (0.20.8)\n",
      "Requirement already satisfied: rapidfuzz<3.0.0,>=2.3.0 in /home/ec2-user/.local/lib/python3.8/site-packages (from Levenshtein==0.20.8->python-Levenshtein->cdlib) (2.13.0)\n",
      "Requirement already satisfied: joblib>=0.11 in /home/ec2-user/anaconda3/envs/python3/lib/python3.8/site-packages (from scikit-learn->cdlib) (1.1.0)\n",
      "Requirement already satisfied: threadpoolctl>=2.0.0 in /home/ec2-user/anaconda3/envs/python3/lib/python3.8/site-packages (from scikit-learn->cdlib) (3.0.0)\n",
      "Requirement already satisfied: six>=1.5 in /home/ec2-user/anaconda3/envs/python3/lib/python3.8/site-packages (from python-dateutil>=2.7->matplotlib->cdlib) (1.16.0)\n",
      "Requirement already satisfied: urllib3<1.27,>=1.21.1 in /home/ec2-user/anaconda3/envs/python3/lib/python3.8/site-packages (from requests->pooch->cdlib) (1.26.8)\n",
      "Requirement already satisfied: charset-normalizer~=2.0.0 in /home/ec2-user/anaconda3/envs/python3/lib/python3.8/site-packages (from requests->pooch->cdlib) (2.0.8)\n",
      "Requirement already satisfied: idna<4,>=2.5 in /home/ec2-user/anaconda3/envs/python3/lib/python3.8/site-packages (from requests->pooch->cdlib) (3.1)\n",
      "Requirement already satisfied: certifi>=2017.4.17 in /home/ec2-user/anaconda3/envs/python3/lib/python3.8/site-packages (from requests->pooch->cdlib) (2021.10.8)\n",
      "\u001b[33mWARNING: You are using pip version 22.0.4; however, version 22.3 is available.\n",
      "You should consider upgrading via the '/home/ec2-user/anaconda3/envs/python3/bin/python -m pip install --upgrade pip' command.\u001b[0m\u001b[33m\n",
      "\u001b[0m"
     ]
    }
   ],
   "source": [
    "!pip install --user cdlib"
   ]
  },
  {
   "cell_type": "code",
   "execution_count": 2,
   "id": "c9dc4e67",
   "metadata": {
    "collapsed": true
   },
   "outputs": [
    {
     "name": "stdout",
     "output_type": "stream",
     "text": [
      "Looking in indexes: https://pypi.org/simple, https://pip.repos.neuron.amazonaws.com\n",
      "Requirement already satisfied: leidenalg in /home/ec2-user/.local/lib/python3.8/site-packages (0.9.0)\n",
      "Requirement already satisfied: igraph<0.11,>=0.10.0 in /home/ec2-user/.local/lib/python3.8/site-packages (from leidenalg) (0.10.2)\n",
      "Requirement already satisfied: texttable>=1.6.2 in /home/ec2-user/anaconda3/envs/python3/lib/python3.8/site-packages (from igraph<0.11,>=0.10.0->leidenalg) (1.6.4)\n",
      "\u001b[33mWARNING: You are using pip version 22.0.4; however, version 22.3 is available.\n",
      "You should consider upgrading via the '/home/ec2-user/anaconda3/envs/python3/bin/python -m pip install --upgrade pip' command.\u001b[0m\u001b[33m\n",
      "\u001b[0m"
     ]
    }
   ],
   "source": [
    "!pip install --user leidenalg "
   ]
  },
  {
   "cell_type": "code",
   "execution_count": 1,
   "id": "e2de359e",
   "metadata": {},
   "outputs": [
    {
     "name": "stdout",
     "output_type": "stream",
     "text": [
      "Note: to be able to use all crisp methods, you need to install some additional packages:  {'graph_tool', 'karateclub', 'infomap'}\n",
      "Note: to be able to use all overlapping methods, you need to install some additional packages:  {'ASLPAw', 'karateclub'}\n",
      "Note: to be able to use all bipartite methods, you need to install some additional packages:  {'infomap'}\n"
     ]
    }
   ],
   "source": [
    "import pandas as pd\n",
    "import numpy as np\n",
    "from sklearn import preprocessing\n",
    "\n",
    "import networkx as nx\n",
    "from cdlib import algorithms\n",
    "from networkx.algorithms import community\n",
    "from community import community_louvain\n",
    "from networkx.algorithms import bipartite\n",
    "from tqdm import tqdm\n",
    "import time\n",
    "from operator import itemgetter\n"
   ]
  },
  {
   "cell_type": "markdown",
   "id": "493a8fb2",
   "metadata": {},
   "source": [
    "### DF OVERVIEW (not real data)"
   ]
  },
  {
   "cell_type": "code",
   "execution_count": 12,
   "id": "ec9eb6b6",
   "metadata": {},
   "outputs": [
    {
     "data": {
      "text/html": [
       "<div>\n",
       "<style scoped>\n",
       "    .dataframe tbody tr th:only-of-type {\n",
       "        vertical-align: middle;\n",
       "    }\n",
       "\n",
       "    .dataframe tbody tr th {\n",
       "        vertical-align: top;\n",
       "    }\n",
       "\n",
       "    .dataframe thead th {\n",
       "        text-align: right;\n",
       "    }\n",
       "</style>\n",
       "<table border=\"1\" class=\"dataframe\">\n",
       "  <thead>\n",
       "    <tr style=\"text-align: right;\">\n",
       "      <th></th>\n",
       "      <th>Client ID</th>\n",
       "      <th>Page ID</th>\n",
       "      <th>Data</th>\n",
       "    </tr>\n",
       "  </thead>\n",
       "  <tbody>\n",
       "    <tr>\n",
       "      <th>4</th>\n",
       "      <td>1429741971.1648665539</td>\n",
       "      <td>Page 0</td>\n",
       "      <td>20220430</td>\n",
       "    </tr>\n",
       "    <tr>\n",
       "      <th>6</th>\n",
       "      <td>1910315733.1611670407</td>\n",
       "      <td>Page 1</td>\n",
       "      <td>20220126</td>\n",
       "    </tr>\n",
       "    <tr>\n",
       "      <th>8</th>\n",
       "      <td>894077043.1646218570</td>\n",
       "      <td>Page 2</td>\n",
       "      <td>20220302</td>\n",
       "    </tr>\n",
       "    <tr>\n",
       "      <th>9</th>\n",
       "      <td>1675573705.1641805598</td>\n",
       "      <td>Page 3</td>\n",
       "      <td>20220114</td>\n",
       "    </tr>\n",
       "    <tr>\n",
       "      <th>10</th>\n",
       "      <td>530234264.1655446978</td>\n",
       "      <td>Page 4</td>\n",
       "      <td>20220722</td>\n",
       "    </tr>\n",
       "    <tr>\n",
       "      <th>11</th>\n",
       "      <td>1413248295.1651081859</td>\n",
       "      <td>Page 5</td>\n",
       "      <td>20220427</td>\n",
       "    </tr>\n",
       "    <tr>\n",
       "      <th>12</th>\n",
       "      <td>1556507839.1586448106</td>\n",
       "      <td>Page 6</td>\n",
       "      <td>20220614</td>\n",
       "    </tr>\n",
       "    <tr>\n",
       "      <th>13</th>\n",
       "      <td>1556507839.1586448106</td>\n",
       "      <td>Page 7</td>\n",
       "      <td>20220615</td>\n",
       "    </tr>\n",
       "    <tr>\n",
       "      <th>14</th>\n",
       "      <td>1404851356.1645088916</td>\n",
       "      <td>Page 8</td>\n",
       "      <td>20220623</td>\n",
       "    </tr>\n",
       "    <tr>\n",
       "      <th>15</th>\n",
       "      <td>1660435339.1648650085</td>\n",
       "      <td>Page 9</td>\n",
       "      <td>20220404</td>\n",
       "    </tr>\n",
       "  </tbody>\n",
       "</table>\n",
       "</div>"
      ],
      "text/plain": [
       "                Client ID Page ID      Data\n",
       "4   1429741971.1648665539  Page 0  20220430\n",
       "6   1910315733.1611670407  Page 1  20220126\n",
       "8    894077043.1646218570  Page 2  20220302\n",
       "9   1675573705.1641805598  Page 3  20220114\n",
       "10   530234264.1655446978  Page 4  20220722\n",
       "11  1413248295.1651081859  Page 5  20220427\n",
       "12  1556507839.1586448106  Page 6  20220614\n",
       "13  1556507839.1586448106  Page 7  20220615\n",
       "14  1404851356.1645088916  Page 8  20220623\n",
       "15  1660435339.1648650085  Page 9  20220404"
      ]
     },
     "execution_count": 12,
     "metadata": {},
     "output_type": "execute_result"
    }
   ],
   "source": [
    "df[['Client ID','Page ID','Data']].head(10)"
   ]
  },
  {
   "cell_type": "markdown",
   "id": "60f914da",
   "metadata": {},
   "source": [
    "- Cleaning and preprocessing"
   ]
  },
  {
   "cell_type": "code",
   "execution_count": 37,
   "id": "f1214dae",
   "metadata": {},
   "outputs": [],
   "source": [
    "df['Client ID']=df['Client ID'].astype(str)\n",
    "\n",
    "le = preprocessing.LabelEncoder()\n",
    "df['Client ID']=le.fit_transform(df['Client ID'])\n",
    "\n",
    "def month_extr(inpt):\n",
    "    return str(inpt)[4:6]\n",
    "df['month']=df['Data'].apply(month_extr)"
   ]
  },
  {
   "cell_type": "markdown",
   "id": "827febd7",
   "metadata": {},
   "source": [
    "##  Bipartite Graph"
   ]
  },
  {
   "cell_type": "code",
   "execution_count": 42,
   "id": "2c34a374",
   "metadata": {},
   "outputs": [],
   "source": [
    "df=df[df['month'].isin(['01','02','03','04','05','06','07','08'])]\n",
    "df=df[['Client ID','Page ID','month']]\n",
    "df.columns=['Client ID','Page ID','month']"
   ]
  },
  {
   "cell_type": "markdown",
   "id": "dcadeb53",
   "metadata": {},
   "source": [
    "- The nodes are both the Client ID and the Page ID"
   ]
  },
  {
   "cell_type": "markdown",
   "id": "20baed55",
   "metadata": {},
   "source": [
    "#### EDGES CREATION"
   ]
  },
  {
   "cell_type": "code",
   "execution_count": 44,
   "id": "1677a349",
   "metadata": {},
   "outputs": [
    {
     "name": "stderr",
     "output_type": "stream",
     "text": [
      "334990it [00:24, 13948.71it/s]\n"
     ]
    }
   ],
   "source": [
    "sources = []\n",
    "targets = []\n",
    "edges = {}\n",
    "for row in tqdm(df.iterrows()):\n",
    "    source = str(row[1][\"Client ID\"])\n",
    "    targets = row[1][\"Page ID\"]\n",
    "    source = source.lower()\n",
    "    if targets != []:\n",
    "        weight = (source, str(targets).lower())\n",
    "        if weight in edges:\n",
    "            edges[weight] += 1\n",
    "        else:\n",
    "            edges[weight] = 1"
   ]
  },
  {
   "cell_type": "markdown",
   "id": "d982e033",
   "metadata": {},
   "source": [
    "#### GRAPH CREATION WITH NETWORKX"
   ]
  },
  {
   "cell_type": "code",
   "execution_count": 45,
   "id": "713102d2",
   "metadata": {},
   "outputs": [],
   "source": [
    "DG = nx.Graph()\n",
    "list_0=[]\n",
    "list_1=[]\n",
    "for k, v in edges.items():\n",
    "    source = k[0]\n",
    "    list_0.append(source)\n",
    "    target = k[1]\n",
    "    list_1.append(target)\n",
    "    weight = v\n",
    "    DG.add_edge(source, target, weight = weight)"
   ]
  },
  {
   "cell_type": "markdown",
   "id": "fa6a0a5b",
   "metadata": {},
   "source": [
    "- Pairs of Nodes and links assignment"
   ]
  },
  {
   "cell_type": "code",
   "execution_count": 46,
   "id": "6774d083",
   "metadata": {},
   "outputs": [],
   "source": [
    "G = nx.DiGraph() #valutare se sia direzionato o no\n",
    "G.add_nodes_from(list_0, bipartite=0) \n",
    "G.add_nodes_from(list_1, bipartite=1)\n",
    "for k, v in edges.items():\n",
    "    source = k[0]\n",
    "    target = k[1]\n",
    "    weight = v\n",
    "    G.add_edge(source, target, weight = weight)"
   ]
  },
  {
   "cell_type": "code",
   "execution_count": 47,
   "id": "083da661",
   "metadata": {},
   "outputs": [],
   "source": [
    "G = G.to_undirected()"
   ]
  },
  {
   "cell_type": "code",
   "execution_count": 48,
   "id": "47fb47f6",
   "metadata": {},
   "outputs": [
    {
     "data": {
      "text/plain": [
       "'Graph with 155948 nodes and 269984 edges'"
      ]
     },
     "execution_count": 48,
     "metadata": {},
     "output_type": "execute_result"
    }
   ],
   "source": [
    "nx.info(G)"
   ]
  },
  {
   "cell_type": "markdown",
   "id": "218b5992",
   "metadata": {},
   "source": [
    "## Community detection\n",
    "\n",
    " Cdlib https://cdlib.readthedocs.io/en/latest/reference/cd_algorithms/node_clustering.html \n"
   ]
  },
  {
   "cell_type": "markdown",
   "id": "d2225a90",
   "metadata": {},
   "source": [
    "#### Louvain"
   ]
  },
  {
   "cell_type": "code",
   "execution_count": 49,
   "id": "af104e9e",
   "metadata": {},
   "outputs": [],
   "source": [
    "partition = community_louvain.best_partition(G)\n",
    "\n",
    "# Get a set of the communities\n",
    "#communities_louvain = set(partition.values())\n",
    "\n",
    "# Create a dictionary mapping community number to nodes within that community\n",
    "#communities_louvain_dict = {c: [k for k, v in partition.items() if v == c] for c in communities_louvain}\n",
    "\n",
    "# Assign each to an attribute in your network\n",
    "nx.set_node_attributes(G, partition, 'community_louvain')"
   ]
  },
  {
   "cell_type": "markdown",
   "id": "97590bdb",
   "metadata": {},
   "source": [
    "#### CORE\n",
    "- Apply core to have a cleaner vision of the clusters.\n",
    "- Instead of forcing a cluster to each node like Louvain, Core assigns the label \"-1\" to a generic cluster. Moreover only the unique pages for each cluster are stored in order to avoid overlapping within multiple clusters"
   ]
  },
  {
   "cell_type": "code",
   "execution_count": 50,
   "id": "9bd70d31",
   "metadata": {},
   "outputs": [],
   "source": [
    "coms = algorithms.core_expansion(G)"
   ]
  },
  {
   "cell_type": "code",
   "execution_count": 52,
   "id": "443f40e0",
   "metadata": {},
   "outputs": [
    {
     "name": "stderr",
     "output_type": "stream",
     "text": [
      "100%|██████████| 457/457 [10:45<00:00,  1.41s/it]  \n"
     ]
    }
   ],
   "source": [
    "def remove_common(a, b):\n",
    " \n",
    "    a = [i for i in a if i not in b]\n",
    "    \n",
    "    return a\n",
    "\n",
    "\n",
    "for tnode in list(G.nodes):\n",
    "    G.nodes[tnode].pop('coreValue',None)\n",
    "\n",
    "core_community=[]\n",
    "\n",
    "for xx in tqdm(range(0,len(coms.communities))):\n",
    "    core = coms.communities[xx]\n",
    "    for jj in range(0,len(coms.communities)):\n",
    "        if (xx != jj):\n",
    "\n",
    "            core = remove_common(core, coms.communities[jj]) \n",
    "            \n",
    "    core_community.append(core)\n",
    "    \n",
    "com_dict={}\n",
    "for i,c in enumerate(core_community):\n",
    "    com_dict[i]=c\n",
    "\n",
    "part={}\n",
    "for k in com_dict.keys():\n",
    "    for v in com_dict[k]:\n",
    "        part[v]=int(k)\n",
    "        \n",
    " \n",
    " \n",
    "main_list = list( set(list(G.nodes)) - set(list(part.keys())) )\n",
    "\n",
    "for k in main_list:\n",
    "    part[k] = -1\n",
    "    \n"
   ]
  },
  {
   "cell_type": "code",
   "execution_count": 54,
   "id": "b2afcf00",
   "metadata": {},
   "outputs": [],
   "source": [
    "nx.set_node_attributes(G, part, 'core')"
   ]
  },
  {
   "cell_type": "markdown",
   "id": "1878ef04",
   "metadata": {},
   "source": [
    "#### TO EXPORT"
   ]
  },
  {
   "cell_type": "code",
   "execution_count": 55,
   "id": "314d3e86",
   "metadata": {},
   "outputs": [],
   "source": [
    "nx.write_gexf(G, \"FILENAME.gexf\")"
   ]
  }
 ],
 "metadata": {
  "kernelspec": {
   "display_name": "conda_python3",
   "language": "python",
   "name": "conda_python3"
  },
  "language_info": {
   "codemirror_mode": {
    "name": "ipython",
    "version": 3
   },
   "file_extension": ".py",
   "mimetype": "text/x-python",
   "name": "python",
   "nbconvert_exporter": "python",
   "pygments_lexer": "ipython3",
   "version": "3.8.12"
  }
 },
 "nbformat": 4,
 "nbformat_minor": 5
}
