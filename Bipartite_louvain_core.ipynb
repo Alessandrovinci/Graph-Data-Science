{
 "cells": [
  {
   "cell_type": "markdown",
   "id": "de4dc171",
   "metadata": {},
   "source": [
    "### IMPORTS"
   ]
  },
  {
   "cell_type": "code",
   "execution_count": null,
   "id": "fb682c84",
   "metadata": {
    "jupyter": {
     "outputs_hidden": true
    },
    "tags": []
   },
   "outputs": [],
   "source": [
    "!pip install --user cdlib"
   ]
  },
  {
   "cell_type": "code",
   "execution_count": null,
   "id": "c9dc4e67",
   "metadata": {},
   "outputs": [],
   "source": [
    "!pip install --user leidenalg "
   ]
  },
  {
   "cell_type": "code",
   "execution_count": null,
   "id": "e2de359e",
   "metadata": {},
   "outputs": [],
   "source": [
    "import pandas as pd\n",
    "import numpy as np\n",
    "from sklearn import preprocessing\n",
    "\n",
    "import networkx as nx\n",
    "from cdlib import algorithms\n",
    "from networkx.algorithms import community\n",
    "from community import community_louvain\n",
    "from networkx.algorithms import bipartite\n",
    "from tqdm import tqdm\n",
    "import time\n",
    "from operator import itemgetter\n"
   ]
  },
  {
   "cell_type": "markdown",
   "id": "493a8fb2",
   "metadata": {},
   "source": [
    "### DF OVERVIEW (not real data)"
   ]
  },
  {
   "cell_type": "code",
   "execution_count": 7,
   "id": "ec9eb6b6",
   "metadata": {},
   "outputs": [
    {
     "data": {
      "text/html": [
       "<div>\n",
       "<style scoped>\n",
       "    .dataframe tbody tr th:only-of-type {\n",
       "        vertical-align: middle;\n",
       "    }\n",
       "\n",
       "    .dataframe tbody tr th {\n",
       "        vertical-align: top;\n",
       "    }\n",
       "\n",
       "    .dataframe thead th {\n",
       "        text-align: right;\n",
       "    }\n",
       "</style>\n",
       "<table border=\"1\" class=\"dataframe\">\n",
       "  <thead>\n",
       "    <tr style=\"text-align: right;\">\n",
       "      <th></th>\n",
       "      <th>Client ID</th>\n",
       "      <th>Page ID</th>\n",
       "      <th>Data</th>\n",
       "    </tr>\n",
       "  </thead>\n",
       "  <tbody>\n",
       "    <tr>\n",
       "      <th>0</th>\n",
       "      <td>4</td>\n",
       "      <td>Page 0</td>\n",
       "      <td>20220623</td>\n",
       "    </tr>\n",
       "    <tr>\n",
       "      <th>1</th>\n",
       "      <td>9</td>\n",
       "      <td>Page 1</td>\n",
       "      <td>20220408</td>\n",
       "    </tr>\n",
       "    <tr>\n",
       "      <th>2</th>\n",
       "      <td>2</td>\n",
       "      <td>Page 2</td>\n",
       "      <td>20220609</td>\n",
       "    </tr>\n",
       "    <tr>\n",
       "      <th>3</th>\n",
       "      <td>7</td>\n",
       "      <td>Page 3</td>\n",
       "      <td>20220406</td>\n",
       "    </tr>\n",
       "    <tr>\n",
       "      <th>4</th>\n",
       "      <td>0</td>\n",
       "      <td>Page 4</td>\n",
       "      <td>20220430</td>\n",
       "    </tr>\n",
       "    <tr>\n",
       "      <th>5</th>\n",
       "      <td>5</td>\n",
       "      <td>Page 5</td>\n",
       "      <td>20220505</td>\n",
       "    </tr>\n",
       "    <tr>\n",
       "      <th>6</th>\n",
       "      <td>3</td>\n",
       "      <td>Page 6</td>\n",
       "      <td>20220126</td>\n",
       "    </tr>\n",
       "    <tr>\n",
       "      <th>7</th>\n",
       "      <td>6</td>\n",
       "      <td>Page 7</td>\n",
       "      <td>20220429</td>\n",
       "    </tr>\n",
       "    <tr>\n",
       "      <th>8</th>\n",
       "      <td>8</td>\n",
       "      <td>Page 8</td>\n",
       "      <td>20220302</td>\n",
       "    </tr>\n",
       "    <tr>\n",
       "      <th>9</th>\n",
       "      <td>1</td>\n",
       "      <td>Page 9</td>\n",
       "      <td>20220114</td>\n",
       "    </tr>\n",
       "  </tbody>\n",
       "</table>\n",
       "</div>"
      ],
      "text/plain": [
       "   Client ID Page ID      Data\n",
       "0          4  Page 0  20220623\n",
       "1          9  Page 1  20220408\n",
       "2          2  Page 2  20220609\n",
       "3          7  Page 3  20220406\n",
       "4          0  Page 4  20220430\n",
       "5          5  Page 5  20220505\n",
       "6          3  Page 6  20220126\n",
       "7          6  Page 7  20220429\n",
       "8          8  Page 8  20220302\n",
       "9          1  Page 9  20220114"
      ]
     },
     "execution_count": 7,
     "metadata": {},
     "output_type": "execute_result"
    }
   ],
   "source": [
    "df[['Client ID','Page ID','Data']].head(10)"
   ]
  },
  {
   "cell_type": "markdown",
   "id": "60f914da",
   "metadata": {},
   "source": [
    "- Cleaning and preprocessing"
   ]
  },
  {
   "cell_type": "code",
   "execution_count": null,
   "id": "f1214dae",
   "metadata": {},
   "outputs": [],
   "source": [
    "df['Client ID']=df['Client ID'].astype(str)\n",
    "\n",
    "le = preprocessing.LabelEncoder()\n",
    "df['Client ID']=le.fit_transform(df['Client ID'])\n",
    "\n",
    "def month_extr(inpt):\n",
    "    return str(inpt)[4:6]\n",
    "df['month']=df['Data'].apply(month_extr)"
   ]
  },
  {
   "cell_type": "markdown",
   "id": "827febd7",
   "metadata": {},
   "source": [
    "##  Bipartite Graph"
   ]
  },
  {
   "cell_type": "code",
   "execution_count": null,
   "id": "2c34a374",
   "metadata": {},
   "outputs": [],
   "source": [
    "df=df[df['month'].isin(['01','02','03','04','05','06','07','08'])]\n",
    "df=df[['Client ID','Page ID','month']]\n",
    "df.columns=['Client ID','Page ID','month']"
   ]
  },
  {
   "cell_type": "markdown",
   "id": "dcadeb53",
   "metadata": {},
   "source": [
    "- The nodes are both the Client ID and the Page ID"
   ]
  },
  {
   "cell_type": "markdown",
   "id": "20baed55",
   "metadata": {},
   "source": [
    "#### EDGES CREATION"
   ]
  },
  {
   "cell_type": "code",
   "execution_count": null,
   "id": "1677a349",
   "metadata": {},
   "outputs": [],
   "source": [
    "sources = []\n",
    "targets = []\n",
    "edges = {}\n",
    "for row in tqdm(df.iterrows()):\n",
    "    source = str(row[1][\"Client ID\"])\n",
    "    targets = row[1][\"Page ID\"]\n",
    "    source = source.lower()\n",
    "    if targets != []:\n",
    "        weight = (source, str(targets).lower())\n",
    "        if weight in edges:\n",
    "            edges[weight] += 1\n",
    "        else:\n",
    "            edges[weight] = 1"
   ]
  },
  {
   "cell_type": "markdown",
   "id": "d982e033",
   "metadata": {},
   "source": [
    "#### GRAPH CREATION WITH NETWORKX"
   ]
  },
  {
   "cell_type": "code",
   "execution_count": null,
   "id": "713102d2",
   "metadata": {},
   "outputs": [],
   "source": [
    "DG = nx.Graph()\n",
    "list_0=[]\n",
    "list_1=[]\n",
    "for k, v in edges.items():\n",
    "    source = k[0]\n",
    "    list_0.append(source)\n",
    "    target = k[1]\n",
    "    list_1.append(target)\n",
    "    weight = v\n",
    "    DG.add_edge(source, target, weight = weight)"
   ]
  },
  {
   "cell_type": "markdown",
   "id": "fa6a0a5b",
   "metadata": {},
   "source": [
    "- Pairs of Nodes and links assignment"
   ]
  },
  {
   "cell_type": "code",
   "execution_count": null,
   "id": "6774d083",
   "metadata": {},
   "outputs": [],
   "source": [
    "G = nx.DiGraph() #valutare se sia direzionato o no\n",
    "G.add_nodes_from(list_0, bipartite=0) \n",
    "G.add_nodes_from(list_1, bipartite=1)\n",
    "for k, v in edges.items():\n",
    "    source = k[0]\n",
    "    target = k[1]\n",
    "    weight = v\n",
    "    G.add_edge(source, target, weight = weight)"
   ]
  },
  {
   "cell_type": "code",
   "execution_count": null,
   "id": "083da661",
   "metadata": {},
   "outputs": [],
   "source": [
    "G = G.to_undirected()"
   ]
  },
  {
   "cell_type": "code",
   "execution_count": null,
   "id": "47fb47f6",
   "metadata": {},
   "outputs": [],
   "source": [
    "nx.info(G)"
   ]
  },
  {
   "cell_type": "markdown",
   "id": "218b5992",
   "metadata": {},
   "source": [
    "## Community detection\n",
    "\n",
    " Cdlib https://cdlib.readthedocs.io/en/latest/reference/cd_algorithms/node_clustering.html \n"
   ]
  },
  {
   "cell_type": "markdown",
   "id": "d2225a90",
   "metadata": {},
   "source": [
    "#### Louvain"
   ]
  },
  {
   "cell_type": "code",
   "execution_count": null,
   "id": "af104e9e",
   "metadata": {},
   "outputs": [],
   "source": [
    "partition = community_louvain.best_partition(G)\n",
    "\n",
    "# Get a set of the communities\n",
    "#communities_louvain = set(partition.values())\n",
    "\n",
    "# Create a dictionary mapping community number to nodes within that community\n",
    "#communities_louvain_dict = {c: [k for k, v in partition.items() if v == c] for c in communities_louvain}\n",
    "\n",
    "# Assign each to an attribute in your network\n",
    "nx.set_node_attributes(G, partition, 'community_louvain')"
   ]
  },
  {
   "cell_type": "markdown",
   "id": "97590bdb",
   "metadata": {},
   "source": [
    "#### CORE\n",
    "- Apply core to have a cleaner vision of the clusters.\n",
    "- Instead of forcing a cluster to each node like Louvain, Core assigns the label \"-1\" to a generic cluster. Moreover only the unique pages for each cluster are stored in order to avoid overlapping within multiple clusters"
   ]
  },
  {
   "cell_type": "code",
   "execution_count": null,
   "id": "9bd70d31",
   "metadata": {},
   "outputs": [],
   "source": [
    "coms = algorithms.core_expansion(G)"
   ]
  },
  {
   "cell_type": "code",
   "execution_count": null,
   "id": "443f40e0",
   "metadata": {},
   "outputs": [],
   "source": [
    "def remove_common(a, b):\n",
    " \n",
    "    a = [i for i in a if i not in b]\n",
    "    \n",
    "    return a\n",
    "\n",
    "\n",
    "for tnode in list(G.nodes):\n",
    "    G.nodes[tnode].pop('coreValue',None)\n",
    "\n",
    "core_community=[]\n",
    "\n",
    "for xx in tqdm(range(0,len(coms.communities))):\n",
    "    core = coms.communities[xx]\n",
    "    for jj in range(0,len(coms.communities)):\n",
    "        if (xx != jj):\n",
    "\n",
    "            core = remove_common(core, coms.communities[jj]) \n",
    "            \n",
    "    core_community.append(core)\n",
    "    \n",
    "com_dict={}\n",
    "for i,c in enumerate(core_community):\n",
    "    com_dict[i]=c\n",
    "\n",
    "part={}\n",
    "for k in com_dict.keys():\n",
    "    for v in com_dict[k]:\n",
    "        part[v]=int(k)\n",
    "        \n",
    " \n",
    " \n",
    "main_list = list( set(list(G.nodes)) - set(list(part.keys())) )\n",
    "\n",
    "for k in main_list:\n",
    "    part[k] = -1\n",
    "    \n"
   ]
  },
  {
   "cell_type": "code",
   "execution_count": null,
   "id": "b2afcf00",
   "metadata": {},
   "outputs": [],
   "source": [
    "nx.set_node_attributes(G, part, 'core')"
   ]
  },
  {
   "cell_type": "markdown",
   "id": "1878ef04",
   "metadata": {},
   "source": [
    "#### TO EXPORT"
   ]
  },
  {
   "cell_type": "code",
   "execution_count": null,
   "id": "314d3e86",
   "metadata": {},
   "outputs": [],
   "source": [
    "nx.write_gexf(G, \"FILENAME.gexf\")"
   ]
  }
 ],
 "metadata": {
  "kernelspec": {
   "display_name": "conda_python3",
   "language": "python",
   "name": "conda_python3"
  },
  "language_info": {
   "codemirror_mode": {
    "name": "ipython",
    "version": 3
   },
   "file_extension": ".py",
   "mimetype": "text/x-python",
   "name": "python",
   "nbconvert_exporter": "python",
   "pygments_lexer": "ipython3",
   "version": "3.8.12"
  }
 },
 "nbformat": 4,
 "nbformat_minor": 5
}
