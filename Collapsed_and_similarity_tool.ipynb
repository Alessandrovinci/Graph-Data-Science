{
 "cells": [
  {
   "cell_type": "markdown",
   "id": "c8d58076",
   "metadata": {},
   "source": [
    "### IMPORTS"
   ]
  },
  {
   "cell_type": "code",
   "execution_count": null,
   "id": "2a801a8a",
   "metadata": {},
   "outputs": [],
   "source": [
    "!pip install --user Node2Vec"
   ]
  },
  {
   "cell_type": "code",
   "execution_count": null,
   "id": "d877750c",
   "metadata": {},
   "outputs": [],
   "source": [
    "!pip install --user cdlib"
   ]
  },
  {
   "cell_type": "code",
   "execution_count": null,
   "id": "815e4a61",
   "metadata": {},
   "outputs": [],
   "source": [
    "!pip install --user gensim"
   ]
  },
  {
   "cell_type": "code",
   "execution_count": null,
   "id": "675f08ec",
   "metadata": {},
   "outputs": [],
   "source": [
    "!pip install --user leidenalg "
   ]
  },
  {
   "cell_type": "code",
   "execution_count": null,
   "id": "abba3514",
   "metadata": {},
   "outputs": [],
   "source": [
    "import pandas as pd\n",
    "import numpy as np\n",
    "from sklearn import preprocessing\n",
    "import re\n",
    "\n",
    "\n",
    "import networkx as nx\n",
    "from cdlib import algorithm\n",
    "from tqdm import tqdm\n",
    "import time\n",
    "from networkx.algorithms import community\n",
    "from community import community_louvain\n",
    "from operator import itemgetter\n",
    "\n",
    "\n",
    "from node2vec import Node2Vec\n",
    "from gensim.models import Word2Vec\n",
    "from sklearn.metrics.pairwise import cosine_similarity,cosine_distances"
   ]
  },
  {
   "cell_type": "markdown",
   "id": "556623ac",
   "metadata": {},
   "source": [
    "#### Graph creation with Nx"
   ]
  },
  {
   "cell_type": "code",
   "execution_count": 4,
   "id": "2f0b8562",
   "metadata": {},
   "outputs": [
    {
     "data": {
      "text/html": [
       "<div>\n",
       "<style scoped>\n",
       "    .dataframe tbody tr th:only-of-type {\n",
       "        vertical-align: middle;\n",
       "    }\n",
       "\n",
       "    .dataframe tbody tr th {\n",
       "        vertical-align: top;\n",
       "    }\n",
       "\n",
       "    .dataframe thead th {\n",
       "        text-align: right;\n",
       "    }\n",
       "</style>\n",
       "<table border=\"1\" class=\"dataframe\">\n",
       "  <thead>\n",
       "    <tr style=\"text-align: right;\">\n",
       "      <th></th>\n",
       "      <th>Client ID</th>\n",
       "      <th>Page ID</th>\n",
       "      <th>Data</th>\n",
       "    </tr>\n",
       "  </thead>\n",
       "  <tbody>\n",
       "    <tr>\n",
       "      <th>1</th>\n",
       "      <td>7.964209e+17</td>\n",
       "      <td>Page 0</td>\n",
       "      <td>20220521</td>\n",
       "    </tr>\n",
       "    <tr>\n",
       "      <th>2</th>\n",
       "      <td>3.330376e+18</td>\n",
       "      <td>Page 1</td>\n",
       "      <td>20220527</td>\n",
       "    </tr>\n",
       "    <tr>\n",
       "      <th>3</th>\n",
       "      <td>1.065177e+19</td>\n",
       "      <td>Page 2</td>\n",
       "      <td>20220517</td>\n",
       "    </tr>\n",
       "    <tr>\n",
       "      <th>4</th>\n",
       "      <td>3.522686e+18</td>\n",
       "      <td>Page 3</td>\n",
       "      <td>20220529</td>\n",
       "    </tr>\n",
       "    <tr>\n",
       "      <th>5</th>\n",
       "      <td>3.522686e+18</td>\n",
       "      <td>Page 4</td>\n",
       "      <td>20220529</td>\n",
       "    </tr>\n",
       "    <tr>\n",
       "      <th>6</th>\n",
       "      <td>6.440111e+18</td>\n",
       "      <td>Page 5</td>\n",
       "      <td>20220520</td>\n",
       "    </tr>\n",
       "    <tr>\n",
       "      <th>7</th>\n",
       "      <td>1.462276e+18</td>\n",
       "      <td>Page 6</td>\n",
       "      <td>20220502</td>\n",
       "    </tr>\n",
       "    <tr>\n",
       "      <th>8</th>\n",
       "      <td>9.844695e+18</td>\n",
       "      <td>Page 7</td>\n",
       "      <td>20220512</td>\n",
       "    </tr>\n",
       "    <tr>\n",
       "      <th>9</th>\n",
       "      <td>1.656462e+19</td>\n",
       "      <td>Page 8</td>\n",
       "      <td>20220511</td>\n",
       "    </tr>\n",
       "    <tr>\n",
       "      <th>10</th>\n",
       "      <td>1.656462e+19</td>\n",
       "      <td>Page 9</td>\n",
       "      <td>20220511</td>\n",
       "    </tr>\n",
       "  </tbody>\n",
       "</table>\n",
       "</div>"
      ],
      "text/plain": [
       "       Client ID Page ID      Data\n",
       "1   7.964209e+17  Page 0  20220521\n",
       "2   3.330376e+18  Page 1  20220527\n",
       "3   1.065177e+19  Page 2  20220517\n",
       "4   3.522686e+18  Page 3  20220529\n",
       "5   3.522686e+18  Page 4  20220529\n",
       "6   6.440111e+18  Page 5  20220520\n",
       "7   1.462276e+18  Page 6  20220502\n",
       "8   9.844695e+18  Page 7  20220512\n",
       "9   1.656462e+19  Page 8  20220511\n",
       "10  1.656462e+19  Page 9  20220511"
      ]
     },
     "execution_count": 4,
     "metadata": {},
     "output_type": "execute_result"
    }
   ],
   "source": [
    "df[['Client ID','Page ID','Data']].head(10)"
   ]
  },
  {
   "cell_type": "markdown",
   "id": "854b493a",
   "metadata": {},
   "source": [
    "### COLLAPSED"
   ]
  },
  {
   "cell_type": "code",
   "execution_count": null,
   "id": "e8a9eedc",
   "metadata": {},
   "outputs": [],
   "source": [
    "edges={}\n",
    "for cl in tqdm(set(df['Client ID'])):\n",
    "    this_client_df=df[df['Client ID']==cl]\n",
    "    if len(this_client_df)<=1:\n",
    "        continue\n",
    "    for p in this_client_df['Page ID'].tolist():\n",
    "        for i in range(len(this_client_df['Page ID'])):\n",
    "            if p==this_client_df['Page ID'].iloc[i]:\n",
    "                continue\n",
    "            tupla=(p,this_client_df['Page ID'].iloc[i])\n",
    "            if tupla in edges:\n",
    "                edges[tupla] += 1\n",
    "            else:\n",
    "                new_tupla=(tupla[1],tupla[0])\n",
    "                if new_tupla in edges:\n",
    "                    continue\n",
    "                else:\n",
    "                    edges[tupla] = 1\n",
    "\n",
    "#Filter to keep only the pages that have been visited together more than once\n",
    "filtered_edges_it={k: v for k, v in edges.items() if v>= 2 }\n",
    "del edges"
   ]
  },
  {
   "cell_type": "markdown",
   "id": "556623ac",
   "metadata": {},
   "source": [
    "#### Graph creation with Nx"
   ]
  },
  {
   "cell_type": "code",
   "execution_count": null,
   "id": "f5c4f9b4",
   "metadata": {},
   "outputs": [],
   "source": [
    "DG_it = nx.DiGraph()\n",
    "for k, v in filtered_edges_it.items():\n",
    "    source = k[0]\n",
    "    target = k[1]\n",
    "    weight = v\n",
    "    DG_it.add_edge(source, target, weight = weight)\n",
    "    \n",
    "print(nx.info(DG_it))"
   ]
  },
  {
   "cell_type": "code",
   "execution_count": null,
   "id": "a1f4b13a",
   "metadata": {},
   "outputs": [],
   "source": [
    "# Compute metrics within your network\n",
    "degree_dict= nx.degree_centrality(DG_it) # Compute the degree centrality for nodes.\n",
    "nx.set_node_attributes(DG_it, degree_dict, 'degree centrality')\n",
    "\n",
    "indegree_dict= nx.in_degree_centrality(DG_it) # Compute the in-degree centrality for nodes.\n",
    "nx.set_node_attributes(DG_it, indegree_dict, 'in-degree centrality')\n",
    "\n",
    "outdegree_dict= nx.out_degree_centrality(DG_it) # Compute the out-degree centrality for nodes.\n",
    "nx.set_node_attributes(DG_it, outdegree_dict, 'out-degree centrality')"
   ]
  },
  {
   "cell_type": "code",
   "execution_count": null,
   "id": "652e7bd9",
   "metadata": {},
   "outputs": [],
   "source": [
    "G = DG_it.to_undirected()\n",
    "del DG_it"
   ]
  },
  {
   "cell_type": "markdown",
   "id": "de489883",
   "metadata": {},
   "source": [
    "#### CREATE NODE EMBEDDINGS WITH NODE2VEC"
   ]
  },
  {
   "cell_type": "code",
   "execution_count": null,
   "id": "1a6bc0cd",
   "metadata": {},
   "outputs": [],
   "source": [
    "node2vec = Node2Vec(G, dimensions=64, walk_length=30, num_walks=200, workers=8,p=2,q=0.5)\n",
    "model = node2vec.fit(window=10, min_count=1, batch_words=4)"
   ]
  },
  {
   "cell_type": "code",
   "execution_count": null,
   "id": "4fd37459",
   "metadata": {},
   "outputs": [],
   "source": [
    "# Save model for later use\n",
    "#model.save('Node2Vec_p2_q05.mod')"
   ]
  },
  {
   "cell_type": "markdown",
   "id": "61348881",
   "metadata": {},
   "source": [
    "#### NODE SIMILARITY TOOL"
   ]
  },
  {
   "cell_type": "code",
   "execution_count": null,
   "id": "9bc0ff81",
   "metadata": {},
   "outputs": [],
   "source": [
    "# Load model\n",
    "#model = Word2Vec.load(\"Node2Vec_p2_q05.mod\")"
   ]
  },
  {
   "cell_type": "code",
   "execution_count": null,
   "id": "05d5e6e9",
   "metadata": {},
   "outputs": [],
   "source": [
    "#FIND THE CORRECT NAME OF THE PAGE OF INTEREST WITHIN THE DB\n",
    "topic='artificial intelligence'\n",
    "\n",
    "mylist = df['Page ID'].unique()\n",
    "r = re.compile(f\".*{topic}*\")\n",
    "\n",
    "newlist = list(filter(r.match, mylist))\n",
    "print(newlist)\n",
    "del mylist"
   ]
  },
  {
   "cell_type": "markdown",
   "id": "aee29713",
   "metadata": {},
   "source": [
    "#### MOST SIMILAR PAGES"
   ]
  },
  {
   "cell_type": "code",
   "execution_count": null,
   "id": "cf3da59b",
   "metadata": {},
   "outputs": [],
   "source": [
    "#SET A TARGET PAGE\n",
    "page_name='Page 1'"
   ]
  },
  {
   "cell_type": "code",
   "execution_count": null,
   "id": "1b7c587e",
   "metadata": {},
   "outputs": [],
   "source": [
    "model.wv.most_similar(page_name)"
   ]
  },
  {
   "cell_type": "markdown",
   "id": "1860125d",
   "metadata": {},
   "source": [
    "#### SIMILARITY BETWEEN USER DEFINED PAGES"
   ]
  },
  {
   "cell_type": "code",
   "execution_count": null,
   "id": "e18567f5",
   "metadata": {},
   "outputs": [],
   "source": [
    "A=model.wv[page_name]\n",
    "\n",
    "results={}\n",
    "for page in ['Page 1','Page2','Page 3']:\n",
    "    v = model.wv[page]\n",
    "    result=cosine_similarity(A.reshape(1,-1),v.reshape(1,-1))\n",
    "    results[page]=result[0][0]\n",
    "{k: v for k, v in sorted(results.items(), key=lambda item: item[1],reverse=True)}"
   ]
  }
 ],
 "metadata": {
  "kernelspec": {
   "display_name": "conda_python3",
   "language": "python",
   "name": "conda_python3"
  },
  "language_info": {
   "codemirror_mode": {
    "name": "ipython",
    "version": 3
   },
   "file_extension": ".py",
   "mimetype": "text/x-python",
   "name": "python",
   "nbconvert_exporter": "python",
   "pygments_lexer": "ipython3",
   "version": "3.8.12"
  }
 },
 "nbformat": 4,
 "nbformat_minor": 5
}
